{
  "cells": [
    {
      "cell_type": "code",
      "execution_count": null,
      "metadata": {
        "id": "ZQC31ozn6fRh"
      },
      "outputs": [],
      "source": [
        "from keras.models import Sequential, load_model\n",
        "from keras.layers import Convolution2D\n",
        "from keras.layers import Flatten\n",
        "from keras.layers import Dense\n",
        "from keras.layers import MaxPooling2D\n",
        "from matplotlib import pyplot as plt"
      ]
    },
    {
      "cell_type": "code",
      "execution_count": null,
      "metadata": {
        "id": "zLn-2xLV60_F"
      },
      "outputs": [],
      "source": [
        "classifier = Sequential()"
      ]
    },
    {
      "cell_type": "code",
      "execution_count": null,
      "metadata": {
        "id": "6aZ6607C6_J6"
      },
      "outputs": [],
      "source": [
        "classifier.add(Convolution2D(512, (3, 3), input_shape=(64, 64, 3), activation='relu',strides=(3,3)))\n",
        "\n",
        "classifier.add(MaxPooling2D(pool_size=(3, 3)))\n",
        "\n",
        "classifier.add(Convolution2D(256, (2, 2), activation='relu'))\n",
        "\n",
        "classifier.add(MaxPooling2D(pool_size=(1, 1)))\n",
        "\n",
        "classifier.add(Flatten())\n",
        "\n",
        "classifier.add(Dense(units=64, activation='relu'))\n",
        "\n",
        "classifier.add(Dense(units=9, activation='softmax'))\n",
        "\n",
        "classifier.compile(optimizer='adam', loss='categorical_crossentropy', metrics=['accuracy'])"
      ]
    },
    {
      "cell_type": "code",
      "execution_count": null,
      "metadata": {
        "id": "velk5xYq7CgS"
      },
      "outputs": [],
      "source": [
        "from keras.preprocessing.image import ImageDataGenerator"
      ]
    },
    {
      "cell_type": "code",
      "execution_count": null,
      "metadata": {
        "id": "7lvcW1I67EKy"
      },
      "outputs": [],
      "source": [
        "train_datagen = ImageDataGenerator(rescale=1. / 255,\n",
        "                                   shear_range=0.2,\n",
        "                                   zoom_range=0.2,\n",
        "                                   horizontal_flip=True)"
      ]
    },
    {
      "cell_type": "code",
      "execution_count": null,
      "metadata": {
        "colab": {
          "base_uri": "https://localhost:8080/"
        },
        "id": "3XmdGt2g7GaN",
        "outputId": "3c132522-c775-4505-9d70-5e95817e2d18"
      },
      "outputs": [
        {
          "name": "stdout",
          "output_type": "stream",
          "text": [
            "\n",
            "Training the data...\n",
            "\n",
            "Found 2700 images belonging to 9 classes.\n"
          ]
        }
      ],
      "source": [
        "test_datagen = ImageDataGenerator(rescale=1. / 255)\n",
        "print(\"\\nTraining the data...\\n\")\n",
        "training_set = train_datagen.flow_from_directory('../Backend/pest/train',\n",
        "                                                 target_size=(64,64),\n",
        "                                                 batch_size=12,\n",
        "                                                 class_mode='categorical'\n",
        "                                                 )"
      ]
    },
    {
      "cell_type": "code",
      "execution_count": null,
      "metadata": {
        "colab": {
          "base_uri": "https://localhost:8080/"
        },
        "id": "jwRDwXPv7J7m",
        "outputId": "18cc0ab6-7649-4080-d0dd-3b80e5f6dc86"
      },
      "outputs": [
        {
          "name": "stdout",
          "output_type": "stream",
          "text": [
            "Found 450 images belonging to 9 classes.\n"
          ]
        }
      ],
      "source": [
        "test_set = test_datagen.flow_from_directory('../Backend/pest/test',\n",
        "                                            target_size=(64,64),\n",
        "                                            batch_size=12,\n",
        "                                            class_mode='categorical'\n",
        "                                            )"
      ]
    },
    {
      "cell_type": "code",
      "execution_count": null,
      "metadata": {
        "colab": {
          "base_uri": "https://localhost:8080/"
        },
        "id": "xUX8AdZr7OE-",
        "outputId": "5acd2311-3ca7-45ea-e359-66b223c1531e"
      },
      "outputs": [
        {
          "name": "stdout",
          "output_type": "stream",
          "text": [
            "Epoch 1/50\n",
            "225/225 [==============================] - 315s 1s/step - loss: 2.1728 - accuracy: 0.1452 - val_loss: 2.0952 - val_accuracy: 0.1867\n",
            "Epoch 2/50\n",
            "225/225 [==============================] - 36s 159ms/step - loss: 1.9612 - accuracy: 0.2633 - val_loss: 1.8685 - val_accuracy: 0.3067\n",
            "Epoch 3/50\n",
            "225/225 [==============================] - 34s 150ms/step - loss: 1.7407 - accuracy: 0.3567 - val_loss: 1.5738 - val_accuracy: 0.4044\n",
            "Epoch 4/50\n",
            "225/225 [==============================] - 34s 149ms/step - loss: 1.5210 - accuracy: 0.4319 - val_loss: 1.3530 - val_accuracy: 0.5044\n",
            "Epoch 5/50\n",
            "225/225 [==============================] - 34s 150ms/step - loss: 1.3036 - accuracy: 0.5407 - val_loss: 1.1669 - val_accuracy: 0.5978\n",
            "Epoch 6/50\n",
            "225/225 [==============================] - 34s 150ms/step - loss: 1.1236 - accuracy: 0.5970 - val_loss: 0.9676 - val_accuracy: 0.6711\n",
            "Epoch 7/50\n",
            "225/225 [==============================] - 36s 158ms/step - loss: 0.9170 - accuracy: 0.6859 - val_loss: 0.8745 - val_accuracy: 0.7000\n",
            "Epoch 8/50\n",
            "225/225 [==============================] - 34s 150ms/step - loss: 0.7555 - accuracy: 0.7433 - val_loss: 0.9578 - val_accuracy: 0.7156\n",
            "Epoch 9/50\n",
            "225/225 [==============================] - 34s 150ms/step - loss: 0.6414 - accuracy: 0.7770 - val_loss: 0.6398 - val_accuracy: 0.7978\n",
            "Epoch 10/50\n",
            "225/225 [==============================] - 34s 149ms/step - loss: 0.5378 - accuracy: 0.8211 - val_loss: 0.7279 - val_accuracy: 0.7933\n",
            "Epoch 11/50\n",
            "225/225 [==============================] - 34s 151ms/step - loss: 0.4554 - accuracy: 0.8474 - val_loss: 0.6327 - val_accuracy: 0.8422\n",
            "Epoch 12/50\n",
            "225/225 [==============================] - 35s 158ms/step - loss: 0.3417 - accuracy: 0.8930 - val_loss: 0.4945 - val_accuracy: 0.8911\n",
            "Epoch 13/50\n",
            "225/225 [==============================] - 34s 151ms/step - loss: 0.2946 - accuracy: 0.9081 - val_loss: 0.4954 - val_accuracy: 0.9022\n",
            "Epoch 14/50\n",
            "225/225 [==============================] - 34s 150ms/step - loss: 0.2185 - accuracy: 0.9326 - val_loss: 0.5440 - val_accuracy: 0.8956\n",
            "Epoch 15/50\n",
            "225/225 [==============================] - 34s 152ms/step - loss: 0.1822 - accuracy: 0.9411 - val_loss: 0.4948 - val_accuracy: 0.9111\n",
            "Epoch 16/50\n",
            "225/225 [==============================] - 35s 154ms/step - loss: 0.1868 - accuracy: 0.9433 - val_loss: 0.4798 - val_accuracy: 0.9156\n",
            "Epoch 17/50\n",
            "225/225 [==============================] - 36s 160ms/step - loss: 0.1475 - accuracy: 0.9604 - val_loss: 0.5505 - val_accuracy: 0.9044\n",
            "Epoch 18/50\n",
            "225/225 [==============================] - 34s 152ms/step - loss: 0.1416 - accuracy: 0.9578 - val_loss: 0.4825 - val_accuracy: 0.9200\n",
            "Epoch 19/50\n",
            "225/225 [==============================] - 34s 152ms/step - loss: 0.1191 - accuracy: 0.9663 - val_loss: 0.5274 - val_accuracy: 0.9311\n",
            "Epoch 20/50\n",
            "225/225 [==============================] - 34s 151ms/step - loss: 0.1737 - accuracy: 0.9485 - val_loss: 0.4609 - val_accuracy: 0.9267\n",
            "Epoch 21/50\n",
            "225/225 [==============================] - 34s 151ms/step - loss: 0.1032 - accuracy: 0.9722 - val_loss: 0.4291 - val_accuracy: 0.9444\n",
            "Epoch 22/50\n",
            "225/225 [==============================] - 34s 151ms/step - loss: 0.1201 - accuracy: 0.9600 - val_loss: 0.4706 - val_accuracy: 0.9378\n",
            "Epoch 23/50\n",
            "225/225 [==============================] - 34s 152ms/step - loss: 0.0984 - accuracy: 0.9711 - val_loss: 0.4600 - val_accuracy: 0.9422\n",
            "Epoch 24/50\n",
            "225/225 [==============================] - 34s 150ms/step - loss: 0.0555 - accuracy: 0.9848 - val_loss: 0.5461 - val_accuracy: 0.9289\n",
            "Epoch 25/50\n",
            "225/225 [==============================] - 34s 153ms/step - loss: 0.1650 - accuracy: 0.9485 - val_loss: 0.5127 - val_accuracy: 0.9244\n",
            "Epoch 26/50\n",
            "225/225 [==============================] - 37s 162ms/step - loss: 0.0857 - accuracy: 0.9730 - val_loss: 0.4753 - val_accuracy: 0.9467\n",
            "Epoch 27/50\n",
            "225/225 [==============================] - 35s 157ms/step - loss: 0.0625 - accuracy: 0.9815 - val_loss: 0.5502 - val_accuracy: 0.9467\n",
            "Epoch 28/50\n",
            "225/225 [==============================] - 36s 160ms/step - loss: 0.0353 - accuracy: 0.9911 - val_loss: 0.5211 - val_accuracy: 0.9378\n",
            "Epoch 29/50\n",
            "225/225 [==============================] - 36s 162ms/step - loss: 0.1190 - accuracy: 0.9667 - val_loss: 0.6640 - val_accuracy: 0.8822\n",
            "Epoch 30/50\n",
            "225/225 [==============================] - 34s 150ms/step - loss: 0.1356 - accuracy: 0.9581 - val_loss: 0.4915 - val_accuracy: 0.9467\n",
            "Epoch 31/50\n",
            "225/225 [==============================] - 34s 152ms/step - loss: 0.1204 - accuracy: 0.9693 - val_loss: 0.6435 - val_accuracy: 0.9444\n",
            "Epoch 32/50\n",
            "225/225 [==============================] - 34s 152ms/step - loss: 0.0368 - accuracy: 0.9911 - val_loss: 0.4567 - val_accuracy: 0.9400\n",
            "Epoch 33/50\n",
            "225/225 [==============================] - 36s 158ms/step - loss: 0.0447 - accuracy: 0.9878 - val_loss: 0.5947 - val_accuracy: 0.9467\n",
            "Epoch 34/50\n",
            "225/225 [==============================] - 34s 150ms/step - loss: 0.0413 - accuracy: 0.9863 - val_loss: 0.5376 - val_accuracy: 0.9422\n",
            "Epoch 35/50\n",
            "225/225 [==============================] - 34s 151ms/step - loss: 0.0618 - accuracy: 0.9822 - val_loss: 0.5872 - val_accuracy: 0.9378\n",
            "Epoch 36/50\n",
            "225/225 [==============================] - 34s 151ms/step - loss: 0.1517 - accuracy: 0.9589 - val_loss: 0.6981 - val_accuracy: 0.9244\n",
            "Epoch 37/50\n",
            "225/225 [==============================] - 34s 151ms/step - loss: 0.1075 - accuracy: 0.9696 - val_loss: 0.5736 - val_accuracy: 0.9444\n",
            "Epoch 38/50\n",
            "225/225 [==============================] - 34s 151ms/step - loss: 0.0374 - accuracy: 0.9915 - val_loss: 0.5942 - val_accuracy: 0.9422\n",
            "Epoch 39/50\n",
            "225/225 [==============================] - 35s 155ms/step - loss: 0.0668 - accuracy: 0.9793 - val_loss: 0.5374 - val_accuracy: 0.9467\n",
            "Epoch 40/50\n",
            "225/225 [==============================] - 34s 150ms/step - loss: 0.1169 - accuracy: 0.9722 - val_loss: 0.4780 - val_accuracy: 0.9422\n",
            "Epoch 41/50\n",
            "225/225 [==============================] - 34s 150ms/step - loss: 0.0252 - accuracy: 0.9956 - val_loss: 0.5024 - val_accuracy: 0.9444\n",
            "Epoch 42/50\n",
            "225/225 [==============================] - 34s 151ms/step - loss: 0.0571 - accuracy: 0.9826 - val_loss: 0.5176 - val_accuracy: 0.9489\n",
            "Epoch 43/50\n",
            "225/225 [==============================] - 34s 151ms/step - loss: 0.0295 - accuracy: 0.9959 - val_loss: 0.5734 - val_accuracy: 0.9489\n",
            "Epoch 44/50\n",
            "225/225 [==============================] - 36s 161ms/step - loss: 0.0210 - accuracy: 0.9948 - val_loss: 0.8290 - val_accuracy: 0.9289\n",
            "Epoch 45/50\n",
            "225/225 [==============================] - 37s 163ms/step - loss: 0.0991 - accuracy: 0.9711 - val_loss: 0.6737 - val_accuracy: 0.9422\n",
            "Epoch 46/50\n",
            "225/225 [==============================] - 34s 150ms/step - loss: 0.1355 - accuracy: 0.9607 - val_loss: 0.6186 - val_accuracy: 0.9333\n",
            "Epoch 47/50\n",
            "225/225 [==============================] - 34s 152ms/step - loss: 0.0981 - accuracy: 0.9700 - val_loss: 0.5433 - val_accuracy: 0.9378\n",
            "Epoch 48/50\n",
            "225/225 [==============================] - 34s 151ms/step - loss: 0.0450 - accuracy: 0.9852 - val_loss: 0.5818 - val_accuracy: 0.9400\n",
            "Epoch 49/50\n",
            "225/225 [==============================] - 36s 160ms/step - loss: 0.0176 - accuracy: 0.9963 - val_loss: 0.5457 - val_accuracy: 0.9489\n",
            "Epoch 50/50\n",
            "225/225 [==============================] - 34s 151ms/step - loss: 0.0563 - accuracy: 0.9811 - val_loss: 0.5675 - val_accuracy: 0.9489\n"
          ]
        }
      ],
      "source": [
        "history=classifier.fit(training_set,epochs = 50,validation_data = test_set,verbose = 1)\n",
        "classifier.save(r\"../Backend/models/CNNcroppest.h5\")"
      ]
    },
    {
      "cell_type": "code",
      "execution_count": null,
      "metadata": {
        "colab": {
          "base_uri": "https://localhost:8080/",
          "height": 564
        },
        "id": "a7q1JLTX7V0J",
        "outputId": "0ef3bc7b-aadd-437d-f2f7-d32d09e7e56d"
      },
      "outputs": [
        {
          "data": {
            "image/png": "[encoded data removed]",
            "text/plain": [
              "<Figure size 432x288 with 1 Axes>"
            ]
          },
          "metadata": {},
          "output_type": "display_data"
        },
        {
          "data": {
            "image/png": "[encoded data removed]",
            "text/plain": [
              "<Figure size 432x288 with 1 Axes>"
            ]
          },
          "metadata": {},
          "output_type": "display_data"
        },
        {
          "name": "stdout",
          "output_type": "stream",
          "text": [
            "0.948888897895813\n"
          ]
        }
      ],
      "source": [
        "plt.style.use(\"ggplot\")\n",
        "plt.figure()\n",
        "plt.plot(history.history['accuracy'],'r',label='training accuracy',color='green')\n",
        "plt.plot(history.history['val_accuracy'],label='validation accuracy',color='red')\n",
        "plt.xlabel('# epochs')\n",
        "plt.ylabel('accuracy')\n",
        "plt.legend()\n",
        "plt.savefig('../Backend/models/cropcnnacc.png')\n",
        "plt.show()\n",
        "\n",
        "plt.style.use(\"ggplot\")\n",
        "plt.figure()\n",
        "plt.plot(history.history['loss'],'r',label='training loss',color='green')\n",
        "plt.plot(history.history['val_loss'],label='validation loss',color='red')\n",
        "plt.xlabel('# epochs')\n",
        "plt.ylabel('loss')\n",
        "plt.legend()\n",
        "plt.savefig('../Backend/models/cropcnnloss.png')\n",
        "plt.show()\n",
        "\n",
        "\n",
        "vgg_acc=history.history['val_accuracy'][-1]\n",
        "\n",
        "print(vgg_acc)"
      ]
    }
  ],
  "metadata": {
    "colab": {
      "collapsed_sections": [],
      "provenance": []
    },
    "kernelspec": {
      "display_name": "Python 3",
      "language": "python",
      "name": "python3"
    },
    "language_info": {
      "name": "python",
      "version": "3.12.0"
    },
    "vscode": {
      "interpreter": {
        "hash": "0a54084e6b208ee8d1ce3989ffc20924477a5f55f5a43e22e699a6741623861e"
      }
    }
  },
  "nbformat": 4,
  "nbformat_minor": 0
}
